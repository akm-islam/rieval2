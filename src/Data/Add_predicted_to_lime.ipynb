{
 "cells": [
  {
   "cell_type": "code",
   "execution_count": 1,
   "id": "fa088151",
   "metadata": {},
   "outputs": [],
   "source": [
    "import os\n",
    "import pandas as pd"
   ]
  },
  {
   "cell_type": "code",
   "execution_count": 2,
   "id": "1477101e",
   "metadata": {},
   "outputs": [
    {
     "data": {
      "text/plain": [
       "['fiscal.csv',\n",
       " 'house_test.csv',\n",
       " 'threepublisher.csv',\n",
       " 'Add_predicted_to_lime.ipynb',\n",
       " 'out.csv',\n",
       " 'house.csv',\n",
       " '.ipynb_checkpoints',\n",
       " 'data',\n",
       " 'school.csv']"
      ]
     },
     "execution_count": 2,
     "metadata": {},
     "output_type": "execute_result"
    }
   ],
   "source": [
    "os.listdir()"
   ]
  },
  {
   "cell_type": "code",
   "execution_count": 3,
   "id": "243b63cb",
   "metadata": {},
   "outputs": [],
   "source": [
    "data=pd.read_csv('threepublisher.csv')"
   ]
  },
  {
   "cell_type": "code",
   "execution_count": 4,
   "id": "e2ecfa4d",
   "metadata": {},
   "outputs": [
    {
     "data": {
      "text/plain": [
       "1"
      ]
     },
     "execution_count": 4,
     "metadata": {},
     "output_type": "execute_result"
    }
   ],
   "source": [
    "#rank_columns=[\"_contribution\" in x for x in df.columns]\n",
    "rank_columns=filter(lambda x: \"RandomFor\" == x, data.columns)\n",
    "len(list(rank_columns))"
   ]
  },
  {
   "cell_type": "code",
   "execution_count": 5,
   "id": "4a354154",
   "metadata": {},
   "outputs": [],
   "source": [
    "rank_data=pd.read_csv('./data/threepublishers/lime/threepublisherlime.csv')"
   ]
  },
  {
   "cell_type": "code",
   "execution_count": 6,
   "id": "9a1ee8d3",
   "metadata": {},
   "outputs": [
    {
     "name": "stdout",
     "output_type": "stream",
     "text": [
      "1414 2828\n",
      "['MART' 'RandomFor']\n"
     ]
    }
   ],
   "source": [
    "print(data.shape[0],rank_data.shape[0])\n",
    "print(rank_data['model'].unique())\n",
    "#print(data['model'].unique())"
   ]
  },
  {
   "cell_type": "code",
   "execution_count": 27,
   "id": "9e33acae",
   "metadata": {},
   "outputs": [
    {
     "data": {
      "text/plain": [
       "0        THE\n",
       "1        THE\n",
       "2        THE\n",
       "3        THE\n",
       "4        THE\n",
       "        ... \n",
       "2823    CWUR\n",
       "2824    CWUR\n",
       "2825    CWUR\n",
       "2826    CWUR\n",
       "2827    CWUR\n",
       "Name: publisher, Length: 2828, dtype: object"
      ]
     },
     "execution_count": 27,
     "metadata": {},
     "output_type": "execute_result"
    }
   ],
   "source": [
    "rank_data['publisher']"
   ]
  },
  {
   "cell_type": "code",
   "execution_count": 7,
   "id": "608f1bef",
   "metadata": {},
   "outputs": [],
   "source": [
    "#rank_data['predicted'] = pd.Series(dtype=int)\n",
    "for index, row in rank_data.iterrows():\n",
    "    #ifor_val = data[(data['1-qid']==rank_data.iloc[index]['1-qid']) & (data['name']==rank_data.iloc[index]['name']) & (data['publisher']==rank_data.iloc[index]['publisher'])][rank_data.iloc[index]['model']]\n",
    "    #print(ifor_val)\n",
    "    ifor_val = data[(data['1-qid']==rank_data.iloc[index]['1-qid']) & (data['name']==rank_data.iloc[index]['name']) & (data['publisher']==rank_data.iloc[index]['publisher'])][rank_data.iloc[index]['model']].item()\n",
    "    #print(ifor_val)\n",
    "    rank_data.at[index,'predicted'] = ifor_val"
   ]
  },
  {
   "cell_type": "code",
   "execution_count": 8,
   "id": "69afc24f",
   "metadata": {},
   "outputs": [
    {
     "data": {
      "text/plain": [
       "23.0"
      ]
     },
     "execution_count": 8,
     "metadata": {},
     "output_type": "execute_result"
    }
   ],
   "source": [
    "rank_data[\"predicted\"][10]"
   ]
  },
  {
   "cell_type": "code",
   "execution_count": 9,
   "id": "a68a6041",
   "metadata": {},
   "outputs": [],
   "source": [
    "rank_data.to_csv('./data/threepublishers/lime/threepublisherlime.csv',index=None)"
   ]
  },
  {
   "cell_type": "code",
   "execution_count": null,
   "id": "c668b7fd",
   "metadata": {},
   "outputs": [],
   "source": []
  }
 ],
 "metadata": {
  "kernelspec": {
   "display_name": "Python 3",
   "language": "python",
   "name": "python3"
  },
  "language_info": {
   "codemirror_mode": {
    "name": "ipython",
    "version": 3
   },
   "file_extension": ".py",
   "mimetype": "text/x-python",
   "name": "python",
   "nbconvert_exporter": "python",
   "pygments_lexer": "ipython3",
   "version": "3.10.0"
  }
 },
 "nbformat": 4,
 "nbformat_minor": 5
}
